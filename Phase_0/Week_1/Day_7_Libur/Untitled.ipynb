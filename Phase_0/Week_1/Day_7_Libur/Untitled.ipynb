{
 "cells": [
  {
   "cell_type": "code",
   "execution_count": 2,
   "id": "4a48a4b1",
   "metadata": {},
   "outputs": [
    {
     "name": "stdout",
     "output_type": "stream",
     "text": [
      "Masukkan Pesanan Anda: Susu Soda\n",
      "Masukkan Pesanan Anda: Aglio Olio\n",
      "Masukkan Pesanan Anda: Onion Ring\n",
      "Masukkan Pesanan Anda: sudah\n"
     ]
    }
   ],
   "source": [
    "list_makanan = []\n",
    "makanan = ''\n",
    "while makanan != 'sudah':\n",
    "    if makanan !='':\n",
    "        list_makanan.append(makanan)\n",
    "    makanan = input(\"Masukkan Pesanan Anda: \")"
   ]
  },
  {
   "cell_type": "code",
   "execution_count": null,
   "id": "418671f0",
   "metadata": {},
   "outputs": [],
   "source": []
  },
  {
   "cell_type": "code",
   "execution_count": null,
   "id": "7bdcc0c9",
   "metadata": {},
   "outputs": [],
   "source": []
  },
  {
   "cell_type": "code",
   "execution_count": null,
   "id": "a253f18f",
   "metadata": {},
   "outputs": [],
   "source": []
  }
 ],
 "metadata": {
  "kernelspec": {
   "display_name": "Python 3 (ipykernel)",
   "language": "python",
   "name": "python3"
  },
  "language_info": {
   "codemirror_mode": {
    "name": "ipython",
    "version": 3
   },
   "file_extension": ".py",
   "mimetype": "text/x-python",
   "name": "python",
   "nbconvert_exporter": "python",
   "pygments_lexer": "ipython3",
   "version": "3.9.7"
  }
 },
 "nbformat": 4,
 "nbformat_minor": 5
}

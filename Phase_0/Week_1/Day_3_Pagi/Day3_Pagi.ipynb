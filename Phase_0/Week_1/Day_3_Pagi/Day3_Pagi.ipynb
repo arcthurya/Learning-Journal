{
 "cells": [
  {
   "cell_type": "markdown",
   "id": "d4e1d39c",
   "metadata": {},
   "source": [
    "Function, Modules, and Package"
   ]
  },
  {
   "cell_type": "code",
   "execution_count": 12,
   "id": "1ffc12b0",
   "metadata": {},
   "outputs": [
    {
     "name": "stdout",
     "output_type": "stream",
     "text": [
      "Ayo Belajar Fungsi\n",
      "Ayo Semangat\n"
     ]
    }
   ],
   "source": [
    "#Function Definition\n",
    "def printme(str_input):\n",
    "    print(str_input)\n",
    "\n",
    "printme(\"Ayo Belajar Fungsi\")\n",
    "printme(\"Ayo Semangat\")"
   ]
  },
  {
   "cell_type": "code",
   "execution_count": 10,
   "id": "7b34163c",
   "metadata": {},
   "outputs": [
    {
     "name": "stdout",
     "output_type": "stream",
     "text": [
      "50\n"
     ]
    }
   ],
   "source": [
    "def rumus_persegi(p,l):   \n",
    "    print(p*l)\n",
    "rumus_persegi(10,5)"
   ]
  },
  {
   "cell_type": "code",
   "execution_count": 16,
   "id": "ac54f092",
   "metadata": {},
   "outputs": [
    {
     "name": "stdout",
     "output_type": "stream",
     "text": [
      "nasi goreng bakso\n"
     ]
    }
   ],
   "source": [
    "def nama_makanan (makanan1,makanan2):\n",
    "    print( makanan1, makanan2)\n",
    "    \n",
    "nama_makanan('nasi goreng','bakso')"
   ]
  },
  {
   "cell_type": "code",
   "execution_count": 21,
   "id": "14e6601e",
   "metadata": {},
   "outputs": [
    {
     "name": "stdout",
     "output_type": "stream",
     "text": [
      " [10, 20, 30]\n",
      "\n",
      "Values outside the function [10, 20, 30, 1, 2, 3, 4]\n",
      " [10, 20, 30, 1, 2, 3, 4]\n"
     ]
    }
   ],
   "source": [
    "def changeme(mylist):\n",
    "    mylist=mylist+[1,2,3,4]\n",
    "    print(\"\\nValues outside the function\", mylist)\n",
    "    return mylist\n",
    "mylist = [10,20,30]\n",
    "print(\"\",mylist)\n",
    "mylist = changeme(mylist)\n",
    "print(\"\",mylist)"
   ]
  },
  {
   "cell_type": "code",
   "execution_count": 22,
   "id": "94bec7f0",
   "metadata": {},
   "outputs": [
    {
     "name": "stdout",
     "output_type": "stream",
     "text": [
      "50\n"
     ]
    }
   ],
   "source": [
    "def rumus_persegi(p,l):   \n",
    "    print(p*l)\n",
    "rumus_persegi(10,5)"
   ]
  },
  {
   "cell_type": "code",
   "execution_count": 27,
   "id": "69de7fd0",
   "metadata": {},
   "outputs": [
    {
     "name": "stdout",
     "output_type": "stream",
     "text": [
      "luasnya adalah :  168\n"
     ]
    }
   ],
   "source": [
    "def rumus_persegi(p,l):\n",
    "    luas = p*l\n",
    "    return luas\n",
    "\n",
    "print('luasnya adalah : ', rumus_persegi(12,14))"
   ]
  },
  {
   "cell_type": "code",
   "execution_count": 28,
   "id": "db274a83",
   "metadata": {},
   "outputs": [
    {
     "name": "stdout",
     "output_type": "stream",
     "text": [
      "luas segitiga :100.0\n"
     ]
    }
   ],
   "source": [
    "def rumus_segitiga(a,t):\n",
    "    luas= (a*t)/2\n",
    "    print('luas segitiga :%.1f' %luas)\n",
    "rumus_segitiga(10,20)"
   ]
  },
  {
   "cell_type": "code",
   "execution_count": 31,
   "id": "db2bfc57",
   "metadata": {},
   "outputs": [
    {
     "name": "stdout",
     "output_type": "stream",
     "text": [
      "luas segitiga adalah :  192.0\n"
     ]
    }
   ],
   "source": [
    "def rumus_segitiga(a,t):\n",
    "    luas= (a*t)/2\n",
    "    return luas\n",
    "\n",
    "print('luas segitiga adalah : ',rumus_segitiga(16,24))"
   ]
  },
  {
   "cell_type": "code",
   "execution_count": 33,
   "id": "8972cb90",
   "metadata": {},
   "outputs": [
    {
     "name": "stdout",
     "output_type": "stream",
     "text": [
      "name:  milo\n",
      "age:  4\n"
     ]
    }
   ],
   "source": [
    "def printinfo( name, age):\n",
    "    print(\"name: \", name)\n",
    "    print(\"age: \", age)\n",
    "printinfo(name='milo',age=4)"
   ]
  },
  {
   "cell_type": "code",
   "execution_count": 35,
   "id": "f7d62acf",
   "metadata": {},
   "outputs": [
    {
     "name": "stdout",
     "output_type": "stream",
     "text": [
      "teman saya namanya: moshi\n"
     ]
    }
   ],
   "source": [
    "def nama_orang(*nama):\n",
    "    print('teman saya namanya: ' + nama[1])\n",
    "nama_orang('milo','moshi','meshi','maya')"
   ]
  },
  {
   "cell_type": "code",
   "execution_count": 37,
   "id": "2e5bf4ed",
   "metadata": {},
   "outputs": [
    {
     "name": "stdout",
     "output_type": "stream",
     "text": [
      "nasi padang\n"
     ]
    }
   ],
   "source": [
    "def nama_makanan(*nama):\n",
    "    print(nama[2])\n",
    "nama_makanan('ketoprak','mie ayam','nasi padang')"
   ]
  },
  {
   "cell_type": "code",
   "execution_count": 39,
   "id": "3a2eda26",
   "metadata": {},
   "outputs": [
    {
     "name": "stdout",
     "output_type": "stream",
     "text": [
      "ikan\n"
     ]
    }
   ],
   "source": [
    "def nama_makanan(**nama):\n",
    "    print(nama['nama2'])\n",
    "nama_makanan(nama1='bakso',nama2='ikan',nama3='ayam')"
   ]
  },
  {
   "cell_type": "code",
   "execution_count": 36,
   "id": "bdcff25a",
   "metadata": {},
   "outputs": [
    {
     "name": "stdout",
     "output_type": "stream",
     "text": [
      "name :  milo\n",
      "age :  35\n",
      "\n",
      "name :  meshi\n",
      "age :  28\n",
      "\n",
      "name :  maya\n",
      "age :  20\n",
      "\n",
      "name :  moshi\n",
      "age :  20\n",
      "\n"
     ]
    }
   ],
   "source": [
    "def printinfo( name, age = 20):\n",
    "    print(\"name : \", name)\n",
    "    print(\"age : \", age)\n",
    "    print(\"\")\n",
    "\n",
    "printinfo( age=35, name='milo')\n",
    "printinfo( age=28, name='meshi')\n",
    "printinfo(name='maya')\n",
    "printinfo(name='moshi')"
   ]
  },
  {
   "cell_type": "code",
   "execution_count": null,
   "id": "363ca4ad",
   "metadata": {},
   "outputs": [],
   "source": [
    "def printinfo( arg1, *tuplevar):\n",
    "    print('argi:', arg1)\n",
    "    print('vartuple: ', vartuple)\n",
    "    print('')\n",
    "    "
   ]
  },
  {
   "cell_type": "code",
   "execution_count": null,
   "id": "2d692547",
   "metadata": {},
   "outputs": [],
   "source": [
    "def person_car(total_data, **kwargs):\n",
    "    print('total data : ')"
   ]
  },
  {
   "cell_type": "code",
   "execution_count": 41,
   "id": "30d78b5b",
   "metadata": {},
   "outputs": [
    {
     "name": "stdout",
     "output_type": "stream",
     "text": [
      "value of total: 30\n",
      "value of total: 40\n"
     ]
    }
   ],
   "source": [
    "sum = lambda arg1, arg2 : arg1 + arg2\n",
    "\n",
    "#lambda function similar to:\n",
    "#def sum(arg1, arg2):\n",
    "#       arg1+arg2\n",
    "\n",
    "print(\"value of total:\", sum(10,20))\n",
    "print(\"value of total:\", sum(20,20))"
   ]
  },
  {
   "cell_type": "code",
   "execution_count": 42,
   "id": "f5157811",
   "metadata": {},
   "outputs": [
    {
     "data": {
      "text/plain": [
       "25"
      ]
     },
     "execution_count": 42,
     "metadata": {},
     "output_type": "execute_result"
    }
   ],
   "source": [
    "def hitung (x,y):\n",
    "    return x**2 + y**2\n",
    "hitung (3,4)"
   ]
  },
  {
   "cell_type": "code",
   "execution_count": 45,
   "id": "1c71e4f8",
   "metadata": {},
   "outputs": [
    {
     "data": {
      "text/plain": [
       "2"
      ]
     },
     "execution_count": 45,
     "metadata": {},
     "output_type": "execute_result"
    }
   ],
   "source": [
    "hitung = lambda x,y : x**2 + y**2\n",
    "hitung (1,1)"
   ]
  },
  {
   "cell_type": "code",
   "execution_count": 47,
   "id": "10ffd639",
   "metadata": {},
   "outputs": [
    {
     "name": "stdout",
     "output_type": "stream",
     "text": [
      "inside the function local total : 30\n",
      "outside the function global total : 10\n"
     ]
    }
   ],
   "source": [
    "total = 10\n",
    "\n",
    "def sum(arg1,arg2):\n",
    "    total = arg1 + arg2;\n",
    "    print(\"inside the function local total :\", total)\n",
    "sum( 10,20 )\n",
    "print (\"outside the function global total :\", total)"
   ]
  },
  {
   "cell_type": "code",
   "execution_count": 55,
   "id": "5d2dcdff",
   "metadata": {},
   "outputs": [
    {
     "name": "stdout",
     "output_type": "stream",
     "text": [
      "nama saya adalah  meshi\n",
      "milo\n"
     ]
    }
   ],
   "source": [
    "nama= 'milo' #global\n",
    "\n",
    "def myfunc():\n",
    "    nama= 'meshi'\n",
    "    print('nama saya adalah ', nama)\n",
    "    \n",
    "myfunc()\n",
    "print(nama)"
   ]
  },
  {
   "cell_type": "code",
   "execution_count": null,
   "id": "e797629b",
   "metadata": {},
   "outputs": [],
   "source": []
  }
 ],
 "metadata": {
  "kernelspec": {
   "display_name": "Python 3 (ipykernel)",
   "language": "python",
   "name": "python3"
  },
  "language_info": {
   "codemirror_mode": {
    "name": "ipython",
    "version": 3
   },
   "file_extension": ".py",
   "mimetype": "text/x-python",
   "name": "python",
   "nbconvert_exporter": "python",
   "pygments_lexer": "ipython3",
   "version": "3.9.7"
  }
 },
 "nbformat": 4,
 "nbformat_minor": 5
}

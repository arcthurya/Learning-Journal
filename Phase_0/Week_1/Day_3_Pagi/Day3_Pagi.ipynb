{
 "cells": [
  {
   "cell_type": "markdown",
   "id": "d4e1d39c",
   "metadata": {},
   "source": [
    "Function, Modules, and Package"
   ]
  },
  {
   "cell_type": "code",
   "execution_count": 12,
   "id": "1ffc12b0",
   "metadata": {},
   "outputs": [
    {
     "name": "stdout",
     "output_type": "stream",
     "text": [
      "Ayo Belajar Fungsi\n",
      "Ayo Semangat\n"
     ]
    }
   ],
   "source": [
    "#Function Definition\n",
    "def printme(str_input):\n",
    "    print(str_input)\n",
    "\n",
    "printme(\"Ayo Belajar Fungsi\")\n",
    "printme(\"Ayo Semangat\")"
   ]
  },
  {
   "cell_type": "code",
   "execution_count": 2,
   "id": "7b34163c",
   "metadata": {},
   "outputs": [
    {
     "name": "stdout",
     "output_type": "stream",
     "text": [
      "50\n"
     ]
    }
   ],
   "source": [
    "def rumus_persegi(p,l):   \n",
    "    print(p*l)\n",
    "rumus_persegi(10,5)"
   ]
  },
  {
   "cell_type": "code",
   "execution_count": 16,
   "id": "ac54f092",
   "metadata": {},
   "outputs": [
    {
     "name": "stdout",
     "output_type": "stream",
     "text": [
      "nasi goreng bakso\n"
     ]
    }
   ],
   "source": [
    "def nama_makanan (makanan1,makanan2):\n",
    "    print( makanan1, makanan2)\n",
    "    \n",
    "nama_makanan('nasi goreng','bakso')"
   ]
  },
  {
   "cell_type": "code",
   "execution_count": 3,
   "id": "14e6601e",
   "metadata": {},
   "outputs": [
    {
     "name": "stdout",
     "output_type": "stream",
     "text": [
      " [10, 20, 30]\n",
      "\n",
      " Values outside the function [10, 20, 30, 1, 2, 3, 4]\n",
      " [10, 20, 30, 1, 2, 3, 4]\n"
     ]
    }
   ],
   "source": [
    "def changeme(mylist):\n",
    "    mylist=mylist+[1,2,3,4]\n",
    "    print(\"\\n Values outside the function\", mylist)\n",
    "    return mylist\n",
    "mylist = [10,20,30]\n",
    "print(\"\",mylist)\n",
    "mylist = changeme(mylist)\n",
    "print(\"\",mylist)"
   ]
  },
  {
   "cell_type": "code",
   "execution_count": 22,
   "id": "94bec7f0",
   "metadata": {},
   "outputs": [
    {
     "name": "stdout",
     "output_type": "stream",
     "text": [
      "50\n"
     ]
    }
   ],
   "source": [
    "def rumus_persegi(p,l):   \n",
    "    print(p*l)\n",
    "rumus_persegi(10,5)"
   ]
  },
  {
   "cell_type": "code",
   "execution_count": 27,
   "id": "69de7fd0",
   "metadata": {},
   "outputs": [
    {
     "name": "stdout",
     "output_type": "stream",
     "text": [
      "luasnya adalah :  168\n"
     ]
    }
   ],
   "source": [
    "def rumus_persegi(p,l):\n",
    "    luas = p*l\n",
    "    return luas\n",
    "\n",
    "print('luasnya adalah : ', rumus_persegi(12,14))"
   ]
  },
  {
   "cell_type": "code",
   "execution_count": 28,
   "id": "db274a83",
   "metadata": {},
   "outputs": [
    {
     "name": "stdout",
     "output_type": "stream",
     "text": [
      "luas segitiga :100.0\n"
     ]
    }
   ],
   "source": [
    "def rumus_segitiga(a,t):\n",
    "    luas= (a*t)/2\n",
    "    print('luas segitiga :%.1f' %luas)\n",
    "rumus_segitiga(10,20)"
   ]
  },
  {
   "cell_type": "code",
   "execution_count": 31,
   "id": "db2bfc57",
   "metadata": {},
   "outputs": [
    {
     "name": "stdout",
     "output_type": "stream",
     "text": [
      "luas segitiga adalah :  192.0\n"
     ]
    }
   ],
   "source": [
    "def rumus_segitiga(a,t):\n",
    "    luas= (a*t)/2\n",
    "    return luas\n",
    "\n",
    "print('luas segitiga adalah : ',rumus_segitiga(16,24))"
   ]
  },
  {
   "cell_type": "code",
   "execution_count": 33,
   "id": "8972cb90",
   "metadata": {},
   "outputs": [
    {
     "name": "stdout",
     "output_type": "stream",
     "text": [
      "name:  milo\n",
      "age:  4\n"
     ]
    }
   ],
   "source": [
    "def printinfo( name, age):\n",
    "    print(\"name: \", name)\n",
    "    print(\"age: \", age)\n",
    "printinfo(name='milo',age=4)"
   ]
  },
  {
   "cell_type": "code",
   "execution_count": 35,
   "id": "f7d62acf",
   "metadata": {},
   "outputs": [
    {
     "name": "stdout",
     "output_type": "stream",
     "text": [
      "teman saya namanya: moshi\n"
     ]
    }
   ],
   "source": [
    "def nama_orang(*nama):\n",
    "    print('teman saya namanya: ' + nama[1])\n",
    "nama_orang('milo','moshi','meshi','maya')"
   ]
  },
  {
   "cell_type": "code",
   "execution_count": 37,
   "id": "2e5bf4ed",
   "metadata": {},
   "outputs": [
    {
     "name": "stdout",
     "output_type": "stream",
     "text": [
      "nasi padang\n"
     ]
    }
   ],
   "source": [
    "def nama_makanan(*nama):\n",
    "    print(nama[2])\n",
    "nama_makanan('ketoprak','mie ayam','nasi padang')"
   ]
  },
  {
   "cell_type": "code",
   "execution_count": 39,
   "id": "3a2eda26",
   "metadata": {},
   "outputs": [
    {
     "name": "stdout",
     "output_type": "stream",
     "text": [
      "ikan\n"
     ]
    }
   ],
   "source": [
    "def nama_makanan(**nama):\n",
    "    print(nama['nama2'])\n",
    "nama_makanan(nama1='bakso',nama2='ikan',nama3='ayam')"
   ]
  },
  {
   "cell_type": "code",
   "execution_count": 36,
   "id": "bdcff25a",
   "metadata": {},
   "outputs": [
    {
     "name": "stdout",
     "output_type": "stream",
     "text": [
      "name :  milo\n",
      "age :  35\n",
      "\n",
      "name :  meshi\n",
      "age :  28\n",
      "\n",
      "name :  maya\n",
      "age :  20\n",
      "\n",
      "name :  moshi\n",
      "age :  20\n",
      "\n"
     ]
    }
   ],
   "source": [
    "def printinfo( name, age = 20):\n",
    "    print(\"name : \", name)\n",
    "    print(\"age : \", age)\n",
    "    print(\"\")\n",
    "\n",
    "printinfo( age=35, name='milo')\n",
    "printinfo( age=28, name='meshi')\n",
    "printinfo(name='maya')\n",
    "printinfo(name='moshi')"
   ]
  },
  {
   "cell_type": "code",
   "execution_count": 8,
   "id": "363ca4ad",
   "metadata": {},
   "outputs": [
    {
     "name": "stdout",
     "output_type": "stream",
     "text": [
      "argi: 10\n",
      "vartuple:  ()\n",
      "\n",
      "argi: 70\n",
      "vartuple:  (60, 50, 'a')\n",
      "\n",
      "isi tuplevar:  60\n",
      "isi tuplevar:  50\n",
      "isi tuplevar:  a\n"
     ]
    }
   ],
   "source": [
    "def printinfo( arg1, *tuplevar):\n",
    "    print('argi:', arg1)\n",
    "    print('vartuple: ', tuplevar)\n",
    "    print('')\n",
    "    \n",
    "    for var in tuplevar:\n",
    "        print ('isi tuplevar: ', var)\n",
    "\n",
    "printinfo (10)\n",
    "printinfo ( 70, 60, 50, 'a')"
   ]
  },
  {
   "cell_type": "code",
   "execution_count": null,
   "id": "2d692547",
   "metadata": {},
   "outputs": [],
   "source": [
    "def person_car(total_data, **kwargs):\n",
    "    print('total data : ')"
   ]
  },
  {
   "cell_type": "code",
   "execution_count": 41,
   "id": "30d78b5b",
   "metadata": {},
   "outputs": [
    {
     "name": "stdout",
     "output_type": "stream",
     "text": [
      "value of total: 30\n",
      "value of total: 40\n"
     ]
    }
   ],
   "source": [
    "sum = lambda arg1, arg2 : arg1 + arg2\n",
    "\n",
    "#lambda function similar to:\n",
    "#def sum(arg1, arg2):\n",
    "#       arg1+arg2\n",
    "\n",
    "print(\"value of total:\", sum(10,20))\n",
    "print(\"value of total:\", sum(20,20))"
   ]
  },
  {
   "cell_type": "code",
   "execution_count": 42,
   "id": "f5157811",
   "metadata": {},
   "outputs": [
    {
     "data": {
      "text/plain": [
       "25"
      ]
     },
     "execution_count": 42,
     "metadata": {},
     "output_type": "execute_result"
    }
   ],
   "source": [
    "def hitung (x,y):\n",
    "    return x**2 + y**2\n",
    "hitung (3,4)"
   ]
  },
  {
   "cell_type": "code",
   "execution_count": 45,
   "id": "1c71e4f8",
   "metadata": {},
   "outputs": [
    {
     "data": {
      "text/plain": [
       "2"
      ]
     },
     "execution_count": 45,
     "metadata": {},
     "output_type": "execute_result"
    }
   ],
   "source": [
    "hitung = lambda x,y : x**2 + y**2\n",
    "hitung (1,1)"
   ]
  },
  {
   "cell_type": "code",
   "execution_count": 47,
   "id": "10ffd639",
   "metadata": {},
   "outputs": [
    {
     "name": "stdout",
     "output_type": "stream",
     "text": [
      "inside the function local total : 30\n",
      "outside the function global total : 10\n"
     ]
    }
   ],
   "source": [
    "total = 10\n",
    "\n",
    "def sum(arg1,arg2):\n",
    "    total = arg1 + arg2;\n",
    "    print(\"inside the function local total :\", total)\n",
    "sum( 10,20 )\n",
    "print (\"outside the function global total :\", total)"
   ]
  },
  {
   "cell_type": "code",
   "execution_count": 55,
   "id": "5d2dcdff",
   "metadata": {},
   "outputs": [
    {
     "name": "stdout",
     "output_type": "stream",
     "text": [
      "nama saya adalah  meshi\n",
      "milo\n"
     ]
    }
   ],
   "source": [
    "nama= 'milo' #global\n",
    "\n",
    "def myfunc():\n",
    "    nama= 'meshi'\n",
    "    print('nama saya adalah ', nama)\n",
    "    \n",
    "myfunc()\n",
    "print(nama)"
   ]
  },
  {
   "cell_type": "markdown",
   "id": "c3e7c787",
   "metadata": {},
   "source": [
    "## module"
   ]
  },
  {
   "cell_type": "code",
   "execution_count": 11,
   "id": "e797629b",
   "metadata": {},
   "outputs": [
    {
     "name": "stdout",
     "output_type": "stream",
     "text": [
      "zack\n"
     ]
    }
   ],
   "source": [
    "import person\n",
    "print(person.name)"
   ]
  },
  {
   "cell_type": "code",
   "execution_count": 12,
   "id": "3a23d77d",
   "metadata": {},
   "outputs": [
    {
     "data": {
      "text/plain": [
       "['laptop', 'smartphone', 'tablet']"
      ]
     },
     "execution_count": 12,
     "metadata": {},
     "output_type": "execute_result"
    }
   ],
   "source": [
    "person.devices"
   ]
  },
  {
   "cell_type": "code",
   "execution_count": 13,
   "id": "1abdab23",
   "metadata": {},
   "outputs": [
    {
     "name": "stdout",
     "output_type": "stream",
     "text": [
      "arg =  halo milo\n"
     ]
    }
   ],
   "source": [
    "person.display(' halo milo')"
   ]
  },
  {
   "cell_type": "code",
   "execution_count": 14,
   "id": "09525950",
   "metadata": {},
   "outputs": [
    {
     "name": "stdout",
     "output_type": "stream",
     "text": [
      "arg = milo\n"
     ]
    }
   ],
   "source": [
    "person.display('milo')"
   ]
  },
  {
   "cell_type": "code",
   "execution_count": 17,
   "id": "d75bb4c1",
   "metadata": {},
   "outputs": [
    {
     "ename": "ModuleNotFoundError",
     "evalue": "No module named 'pandas'",
     "output_type": "error",
     "traceback": [
      "\u001b[1;31m---------------------------------------------------------------------------\u001b[0m",
      "\u001b[1;31mModuleNotFoundError\u001b[0m                       Traceback (most recent call last)",
      "Input \u001b[1;32mIn [17]\u001b[0m, in \u001b[0;36m<module>\u001b[1;34m\u001b[0m\n\u001b[1;32m----> 1\u001b[0m \u001b[38;5;28;01mimport\u001b[39;00m \u001b[38;5;21;01mpandas\u001b[39;00m \u001b[38;5;28;01mas\u001b[39;00m \u001b[38;5;21;01mpd\u001b[39;00m\n",
      "\u001b[1;31mModuleNotFoundError\u001b[0m: No module named 'pandas'"
     ]
    }
   ],
   "source": [
    "import pandas as pd"
   ]
  },
  {
   "cell_type": "code",
   "execution_count": 1,
   "id": "d4e628a4",
   "metadata": {},
   "outputs": [
    {
     "name": "stdout",
     "output_type": "stream",
     "text": [
      "Collecting pandas\n",
      "  Downloading pandas-1.4.0-cp310-cp310-win_amd64.whl (10.6 MB)\n",
      "Collecting numpy>=1.21.0\n",
      "  Downloading numpy-1.22.1-cp310-cp310-win_amd64.whl (14.7 MB)\n",
      "Collecting pytz>=2020.1\n",
      "  Downloading pytz-2021.3-py2.py3-none-any.whl (503 kB)\n",
      "Requirement already satisfied: python-dateutil>=2.8.1 in c:\\users\\asus\\appdata\\local\\programs\\python\\python310\\lib\\site-packages (from pandas) (2.8.2)\n",
      "Requirement already satisfied: six>=1.5 in c:\\users\\asus\\appdata\\local\\programs\\python\\python310\\lib\\site-packages (from python-dateutil>=2.8.1->pandas) (1.16.0)\n",
      "Installing collected packages: pytz, numpy, pandas\n",
      "Successfully installed numpy-1.22.1 pandas-1.4.0 pytz-2021.3"
     ]
    },
    {
     "name": "stderr",
     "output_type": "stream",
     "text": [
      "WARNING: You are using pip version 21.2.4; however, version 21.3.1 is available.\n",
      "You should consider upgrading via the 'C:\\Users\\Asus\\AppData\\Local\\Programs\\Python\\Python310\\python.exe -m pip install --upgrade pip' command.\n"
     ]
    },
    {
     "name": "stdout",
     "output_type": "stream",
     "text": [
      "\n"
     ]
    }
   ],
   "source": [
    "!pip install pandas\n"
   ]
  },
  {
   "cell_type": "code",
   "execution_count": null,
   "id": "b82d7c49",
   "metadata": {},
   "outputs": [],
   "source": []
  }
 ],
 "metadata": {
  "kernelspec": {
   "display_name": "Python 3 (ipykernel)",
   "language": "python",
   "name": "python3"
  },
  "language_info": {
   "codemirror_mode": {
    "name": "ipython",
    "version": 3
   },
   "file_extension": ".py",
   "mimetype": "text/x-python",
   "name": "python",
   "nbconvert_exporter": "python",
   "pygments_lexer": "ipython3",
   "version": "3.9.7"
  }
 },
 "nbformat": 4,
 "nbformat_minor": 5
}

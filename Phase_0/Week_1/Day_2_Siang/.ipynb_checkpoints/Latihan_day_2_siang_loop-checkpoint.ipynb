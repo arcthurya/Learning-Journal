{
 "cells": [
  {
   "cell_type": "code",
   "execution_count": 5,
   "id": "1da11586",
   "metadata": {},
   "outputs": [],
   "source": [
    "angka = 15 //operator assignment"
   ]
  },
  {
   "cell_type": "code",
   "execution_count": 6,
   "id": "ff274d65",
   "metadata": {
    "scrolled": true
   },
   "outputs": [
    {
     "data": {
      "text/plain": [
       "15"
      ]
     },
     "execution_count": 6,
     "metadata": {},
     "output_type": "execute_result"
    }
   ],
   "source": [
    "angka"
   ]
  },
  {
   "cell_type": "code",
   "execution_count": 8,
   "id": "03b974c6",
   "metadata": {},
   "outputs": [
    {
     "data": {
      "text/plain": [
       "False"
      ]
     },
     "execution_count": 8,
     "metadata": {},
     "output_type": "execute_result"
    }
   ],
   "source": [
    "5 == 10 //operator perbandingan"
   ]
  },
  {
   "cell_type": "code",
   "execution_count": 9,
   "id": "9808697a",
   "metadata": {},
   "outputs": [
    {
     "data": {
      "text/plain": [
       "True"
      ]
     },
     "execution_count": 9,
     "metadata": {},
     "output_type": "execute_result"
    }
   ],
   "source": [
    "angka == 15"
   ]
  },
  {
   "cell_type": "code",
   "execution_count": 13,
   "id": "22c0d3cb",
   "metadata": {},
   "outputs": [
    {
     "name": "stdout",
     "output_type": "stream",
     "text": [
      "12 lebih besar dari 10\n"
     ]
    }
   ],
   "source": [
    "angka = 12\n",
    "print(f\"{angka} lebih besar dari 10\")"
   ]
  },
  {
   "cell_type": "code",
   "execution_count": 24,
   "id": "9988f506",
   "metadata": {},
   "outputs": [
    {
     "name": "stdout",
     "output_type": "stream",
     "text": [
      "8 lebih kecil dari 10\n"
     ]
    }
   ],
   "source": [
    "angka = 8\n",
    "if angka > 10:\n",
    "    print(f\"{angka} lebih besar dari 10\")\n",
    "    print(\"ini masih dalam kondisi if\")\n",
    "else :\n",
    "    print(f\"{angka} lebih kecil dari 10\")    "
   ]
  },
  {
   "cell_type": "markdown",
   "id": "50a80ab6",
   "metadata": {},
   "source": [
    "LOOPING"
   ]
  },
  {
   "cell_type": "code",
   "execution_count": 27,
   "id": "516166cd",
   "metadata": {
    "scrolled": true
   },
   "outputs": [
    {
     "name": "stdout",
     "output_type": "stream",
     "text": [
      "Halo, Albert apa kabar?\n"
     ]
    }
   ],
   "source": [
    "print(\"Halo, Albert apa kabar?\")"
   ]
  },
  {
   "cell_type": "code",
   "execution_count": 32,
   "id": "9c24ed04",
   "metadata": {},
   "outputs": [
    {
     "name": "stdout",
     "output_type": "stream",
     "text": [
      "kali : 0\n",
      "halo, apa kabar\n",
      "kali : 1\n",
      "halo, apa kabar\n",
      "kali : 2\n",
      "halo, apa kabar\n",
      "kali : 3\n",
      "halo, apa kabar\n",
      "kali : 4\n",
      "halo, apa kabar\n"
     ]
    }
   ],
   "source": [
    "kali = 0\n",
    "while kali < 5:\n",
    "    print(f\"kali : {kali}\")\n",
    "    print(\"halo, apa kabar\")\n",
    "    kali = kali + 1"
   ]
  },
  {
   "cell_type": "code",
   "execution_count": 39,
   "id": "e4d72b87",
   "metadata": {},
   "outputs": [
    {
     "name": "stdout",
     "output_type": "stream",
     "text": [
      "Masukkan pesanan Anda:ayam\n",
      "Masukkan pesanan Anda:nasi goreng\n",
      "Masukkan pesanan Anda:mie goreng\n",
      "Masukkan pesanan Anda:tahu campur\n",
      "Masukkan pesanan Anda:\n",
      "Masukkan pesanan Anda:cukup\n"
     ]
    }
   ],
   "source": [
    "list_makanan = []\n",
    "makanan = ''\n",
    "while makanan != 'cukup':\n",
    "    if makanan !='':\n",
    "        list_makanan.append(makanan)\n",
    "    makanan = input(\"Masukkan pesanan Anda:\")\n",
    "    "
   ]
  },
  {
   "cell_type": "code",
   "execution_count": 40,
   "id": "552d9c74",
   "metadata": {},
   "outputs": [
    {
     "data": {
      "text/plain": [
       "['ayam', 'nasi goreng', 'mie goreng', 'tahu campur']"
      ]
     },
     "execution_count": 40,
     "metadata": {},
     "output_type": "execute_result"
    }
   ],
   "source": [
    "list_makanan"
   ]
  },
  {
   "cell_type": "code",
   "execution_count": 38,
   "id": "cd2eca4e",
   "metadata": {},
   "outputs": [
    {
     "name": "stdout",
     "output_type": "stream",
     "text": [
      "7 x 1 = 7\n",
      "7 x 2 = 14\n",
      "7 x 3 = 21\n",
      "7 x 4 = 28\n",
      "7 x 5 = 35\n",
      "7 x 6 = 42\n",
      "7 x 7 = 49\n",
      "7 x 8 = 56\n",
      "7 x 9 = 63\n",
      "7 x 10 = 70\n"
     ]
    }
   ],
   "source": [
    "i = 1\n",
    "while i <= 10:\n",
    "    print(f\"{7} x {i} = {7*i}\")\n",
    "    i += 1"
   ]
  },
  {
   "cell_type": "code",
   "execution_count": 41,
   "id": "adfb580d",
   "metadata": {},
   "outputs": [
    {
     "name": "stdout",
     "output_type": "stream",
     "text": [
      "saya jual papaya\n",
      "saya jual mangga\n",
      "saya jual pisang\n",
      "saya jual jambu\n"
     ]
    }
   ],
   "source": [
    "# for loop\n",
    "buahbuahan = [\"papaya\",\"mangga\",\"pisang\",\"jambu\"]\n",
    "for i in buahbuahan: ## i = variabel iteratif/bisa di rubah\n",
    "    print(f\"saya jual {i}\")"
   ]
  },
  {
   "cell_type": "code",
   "execution_count": 46,
   "id": "35da6798",
   "metadata": {},
   "outputs": [
    {
     "name": "stdout",
     "output_type": "stream",
     "text": [
      "7 x 1 = 7\n",
      "7 x 2 = 14\n",
      "7 x 3 = 21\n",
      "7 x 4 = 28\n",
      "7 x 5 = 35\n",
      "7 x 6 = 42\n",
      "7 x 7 = 49\n",
      "7 x 8 = 56\n",
      "7 x 9 = 63\n",
      "7 x 10 = 70\n"
     ]
    }
   ],
   "source": [
    "for i in (1,2,3,4,5,6,7,8,9,10):\n",
    "    print(f\"{7} x {i} = {7*i}\")"
   ]
  },
  {
   "cell_type": "code",
   "execution_count": 49,
   "id": "b7d61bfe",
   "metadata": {},
   "outputs": [
    {
     "data": {
      "text/plain": [
       "[1, 2, 3, 4, 5, 6, 7, 8, 9]"
      ]
     },
     "execution_count": 49,
     "metadata": {},
     "output_type": "execute_result"
    }
   ],
   "source": [
    "## range (a,b,n) a=nilai awal / b=nilai akhir / n=step\n",
    "list(range(1,10,1)) #angka 1 adalah default"
   ]
  },
  {
   "cell_type": "code",
   "execution_count": 50,
   "id": "9b646c46",
   "metadata": {},
   "outputs": [
    {
     "name": "stdout",
     "output_type": "stream",
     "text": [
      "7 x 1 = 7\n",
      "7 x 2 = 14\n",
      "7 x 3 = 21\n",
      "7 x 4 = 28\n",
      "7 x 5 = 35\n",
      "7 x 6 = 42\n"
     ]
    }
   ],
   "source": [
    "#special keyword = break\n",
    "for i in range(1,11):\n",
    "    if i == 7:\n",
    "        break\n",
    "    print(f\"{7} x {i} = {7*i}\")"
   ]
  },
  {
   "cell_type": "code",
   "execution_count": 51,
   "id": "1a4cd447",
   "metadata": {},
   "outputs": [
    {
     "name": "stdout",
     "output_type": "stream",
     "text": [
      "7 x 1 = 7\n",
      "7 x 2 = 14\n",
      "7 x 3 = 21\n",
      "7 x 4 = 28\n",
      "7 x 5 = 35\n",
      "7 x 6 = 42\n",
      "7 x 8 = 56\n",
      "7 x 9 = 63\n",
      "7 x 10 = 70\n"
     ]
    }
   ],
   "source": [
    "#special keyword = continue in for loop\n",
    "for i in range(1,11):\n",
    "    if i == 7:\n",
    "        continue\n",
    "    print(f\"{7} x {i} = {7*i}\")"
   ]
  },
  {
   "cell_type": "code",
   "execution_count": 56,
   "id": "fca36c68",
   "metadata": {},
   "outputs": [
    {
     "name": "stdout",
     "output_type": "stream",
     "text": [
      "7 x 2 = 14\n",
      "7 x 3 = 21\n",
      "7 x 4 = 28\n",
      "7 x 5 = 35\n",
      "7 x 6 = 42\n"
     ]
    }
   ],
   "source": [
    "#special keyword = continue in while loop\n",
    "i = 1\n",
    "while i <= 10:\n",
    "    i += 1\n",
    "    if i == 7:\n",
    "        break\n",
    "    print(f\"{7} x {i} = {7*i}\")"
   ]
  },
  {
   "cell_type": "code",
   "execution_count": 57,
   "id": "edc0a2a3",
   "metadata": {},
   "outputs": [],
   "source": [
    "from random import randint\n"
   ]
  },
  {
   "cell_type": "code",
   "execution_count": 60,
   "id": "f5deea5b",
   "metadata": {},
   "outputs": [
    {
     "data": {
      "text/plain": [
       "8"
      ]
     },
     "execution_count": 60,
     "metadata": {},
     "output_type": "execute_result"
    }
   ],
   "source": [
    "randint(1,10)"
   ]
  },
  {
   "cell_type": "code",
   "execution_count": 62,
   "id": "0fa62485",
   "metadata": {},
   "outputs": [
    {
     "name": "stdout",
     "output_type": "stream",
     "text": [
      "Masukkan angka : 8\n"
     ]
    },
    {
     "data": {
      "text/plain": [
       "True"
      ]
     },
     "execution_count": 62,
     "metadata": {},
     "output_type": "execute_result"
    }
   ],
   "source": [
    "a = 8\n",
    "b = input(\"Masukkan angka : \")\n",
    "b = int(b)\n",
    "a == b"
   ]
  },
  {
   "cell_type": "code",
   "execution_count": 83,
   "id": "2fc46ea3",
   "metadata": {},
   "outputs": [
    {
     "name": "stdout",
     "output_type": "stream",
     "text": [
      "Masukkan Tebakan anda : 5\n",
      "angka terlalu besar\n",
      "Masukkan Tebakan anda : 3\n",
      "angka terlalu besar\n",
      "Masukkan Tebakan anda : 1\n",
      "Angka Terlalu Kecil\n",
      "Anda Kalah, CUPU!!\n"
     ]
    }
   ],
   "source": [
    "angka_acak = randint(1, 10)\n",
    "angka_tebakan = 0\n",
    "kesempatan = 3\n",
    "while angka_tebakan != angka_acak and kesempatan > 0 :\n",
    "    angka_tebakan = input(\"Masukkan Tebakan anda : \")\n",
    "    angka_tebakan = int(angka_tebakan)\n",
    "    if angka_tebakan < angka_acak:\n",
    "        print(\"Angka Terlalu Kecil\")\n",
    "        kesempatan -= 1\n",
    "    elif angka_tebakan > angka_acak :\n",
    "        print(\"angka terlalu besar\")\n",
    "        kesempatan -= 1\n",
    "    else :\n",
    "        print(\"selamat anda berhasil menebak\")\n",
    "        print(f\"Angka komputer adalah {angka_acak}\")\n",
    "        print(f\"Anda punya {kesempatan-1} Kesempatan tersisa\")\n",
    "    if kesempatan == 0:\n",
    "        print(\"Anda Kalah, CUPU!!\")"
   ]
  },
  {
   "cell_type": "code",
   "execution_count": null,
   "id": "d98a465b",
   "metadata": {},
   "outputs": [],
   "source": []
  }
 ],
 "metadata": {
  "kernelspec": {
   "display_name": "Python 3 (ipykernel)",
   "language": "python",
   "name": "python3"
  },
  "language_info": {
   "codemirror_mode": {
    "name": "ipython",
    "version": 3
   },
   "file_extension": ".py",
   "mimetype": "text/x-python",
   "name": "python",
   "nbconvert_exporter": "python",
   "pygments_lexer": "ipython3",
   "version": "3.9.7"
  }
 },
 "nbformat": 4,
 "nbformat_minor": 5
}
